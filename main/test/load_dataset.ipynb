{
 "cells": [
  {
   "cell_type": "code",
   "execution_count": 39,
   "metadata": {},
   "outputs": [],
   "source": [
    "import numpy as np\n",
    "import pandas as pd\n",
    "import os\n",
    "from tqdm.auto import trange, tqdm\n",
    "from tensorflow.keras.preprocessing import image"
   ]
  },
  {
   "cell_type": "code",
   "execution_count": 75,
   "metadata": {},
   "outputs": [],
   "source": [
    "def load_UBIPr():\n",
    "    files_list = []\n",
    "    for files in tqdm(os.listdir('Iris-Dataset/UBIPr')):\n",
    "        if files.endswith(\".jpg\") and \"S1\" in files:\n",
    "            files = files.replace('.jpg', '')\n",
    "            files = files.split('_')\n",
    "            files[0] = int(files[0].replace('C', ''))\n",
    "            files[1] = int(files[1].replace('S', ''))\n",
    "            files[2] = int(files[2].replace('I', ''))\n",
    "            files_list.append(files)\n",
    "    files_list = sorted(files_list)\n",
    "    files_db = pd.DataFrame(files_list, columns=['C', 'S', 'I'])\n",
    "\n",
    "    iris_data = []\n",
    "    iris_label = [[], []]\n",
    "    for C, S, I in tqdm(files_db.values):\n",
    "        image_path = f'Iris-Dataset/UBIPr/C{C}_S{S}_I{I}.jpg'\n",
    "        img = image.load_img(image_path, target_size=(64, 64))\n",
    "        img = image.img_to_array(img)\n",
    "        iris_data.append(img)\n",
    "        iris_label[0].append(str(C//2).zfill(3) + \"0\" if C % 2 != 0 else str((C-1)//2).zfill(3) + \"1\")\n",
    "        iris_label[1].append(f'C{C}_S{S}_I{I}.jpg')\n",
    "        \n",
    "    return np.array(iris_data), np.array(iris_label)"
   ]
  },
  {
   "cell_type": "code",
   "execution_count": 76,
   "metadata": {},
   "outputs": [
    {
     "data": {
      "application/vnd.jupyter.widget-view+json": {
       "model_id": "cf0ec54ad28c474199ecabbdb1a27e04",
       "version_major": 2,
       "version_minor": 0
      },
      "text/plain": [
       "  0%|          | 0/30597 [00:00<?, ?it/s]"
      ]
     },
     "metadata": {},
     "output_type": "display_data"
    },
    {
     "data": {
      "application/vnd.jupyter.widget-view+json": {
       "model_id": "d6414ea2e1c34acea15658d5dfc0f75a",
       "version_major": 2,
       "version_minor": 0
      },
      "text/plain": [
       "  0%|          | 0/7553 [00:00<?, ?it/s]"
      ]
     },
     "metadata": {},
     "output_type": "display_data"
    }
   ],
   "source": [
    "iris_data, iris_label = load_UBIPr()"
   ]
  },
  {
   "cell_type": "code",
   "execution_count": 77,
   "metadata": {},
   "outputs": [
    {
     "data": {
      "text/plain": [
       "array(['0000', '0000', '0000', '0000', '0000', '0000', '0000', '0000',\n",
       "       '0000', '0000', '0000', '0000', '0000', '0000', '0000', '0001',\n",
       "       '0001', '0001', '0001', '0001', '0001', '0001', '0001', '0001',\n",
       "       '0001', '0001', '0001', '0001', '0001', '0001', '0010', '0010',\n",
       "       '0010', '0010', '0010', '0010', '0010', '0010', '0010', '0010',\n",
       "       '0010', '0010', '0010', '0010', '0010', '0011', '0011', '0011',\n",
       "       '0011', '0011', '0011', '0011', '0011', '0011', '0011', '0011',\n",
       "       '0011', '0011', '0011', '0011', '0020', '0020', '0020', '0020',\n",
       "       '0020', '0020', '0020', '0020', '0020', '0020', '0020', '0020',\n",
       "       '0020', '0020', '0020', '0021', '0021', '0021', '0021', '0021',\n",
       "       '0021', '0021', '0021', '0021', '0021', '0021', '0021', '0021',\n",
       "       '0021', '0021', '0030', '0030', '0030', '0030', '0030', '0030',\n",
       "       '0030', '0030', '0030', '0030'], dtype='<U15')"
      ]
     },
     "execution_count": 77,
     "metadata": {},
     "output_type": "execute_result"
    }
   ],
   "source": [
    "iris_label[0][:100]"
   ]
  },
  {
   "cell_type": "code",
   "execution_count": null,
   "metadata": {},
   "outputs": [],
   "source": []
  }
 ],
 "metadata": {
  "kernelspec": {
   "display_name": "Python 3",
   "language": "python",
   "name": "python3"
  },
  "language_info": {
   "codemirror_mode": {
    "name": "ipython",
    "version": 3
   },
   "file_extension": ".py",
   "mimetype": "text/x-python",
   "name": "python",
   "nbconvert_exporter": "python",
   "pygments_lexer": "ipython3",
   "version": "3.10.11"
  }
 },
 "nbformat": 4,
 "nbformat_minor": 2
}
