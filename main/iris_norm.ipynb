{
 "cells": [
  {
   "cell_type": "code",
   "execution_count": 2,
   "metadata": {},
   "outputs": [
    {
     "name": "stderr",
     "output_type": "stream",
     "text": [
      "c:\\Users\\jimyj\\Desktop\\TAIST\\Thesis\\Source_Code\\main\\module\\iris_preprocessing.py:8: TqdmExperimentalWarning: Using `tqdm.autonotebook.tqdm` in notebook mode. Use `tqdm.tqdm` instead to force console mode (e.g. in jupyter console)\n",
      "  from tqdm.autonotebook import tqdm\n"
     ]
    }
   ],
   "source": [
    "from module.Iris_recognition import *\n",
    "from module.Periocular_recognition import *\n",
    "from module.img_enhance.half_UGV import *\n",
    "from module.img_enhance.reflection_removal import * \n",
    "from module.iris_preprocessing import *\n",
    "import os"
   ]
  },
  {
   "cell_type": "code",
   "execution_count": 3,
   "metadata": {},
   "outputs": [
    {
     "data": {
      "application/vnd.jupyter.widget-view+json": {
       "model_id": "294c183fd2dd4fb69bd89514118b0b05",
       "version_major": 2,
       "version_minor": 0
      },
      "text/plain": [
       "Normalize Image:   0%|          | 0/20000 [00:00<?, ?it/s]"
      ]
     },
     "metadata": {},
     "output_type": "display_data"
    },
    {
     "name": "stderr",
     "output_type": "stream",
     "text": [
      "C:\\Users\\jimyj\\AppData\\Roaming\\Python\\Python37\\site-packages\\torchvision\\transforms\\functional.py:126: UserWarning: The given NumPy array is not writeable, and PyTorch does not support non-writeable tensors. This means you can write to the underlying (supposedly non-writeable) NumPy array using the tensor. You may want to copy the array to protect its data or make it writeable before converting it to a tensor. This type of warning will be suppressed for the rest of this program. (Triggered internally at  ..\\torch\\csrc\\utils\\tensor_numpy.cpp:189.)\n",
      "  img = torch.from_numpy(pic.transpose((2, 0, 1))).contiguous()\n"
     ]
    },
    {
     "ename": "KeyboardInterrupt",
     "evalue": "",
     "output_type": "error",
     "traceback": [
      "\u001b[1;31m---------------------------------------------------------------------------\u001b[0m",
      "\u001b[1;31mKeyboardInterrupt\u001b[0m                         Traceback (most recent call last)",
      "\u001b[1;32m~\\AppData\\Local\\Temp/ipykernel_26676/3280460670.py\u001b[0m in \u001b[0;36m<module>\u001b[1;34m\u001b[0m\n\u001b[1;32m----> 1\u001b[1;33m \u001b[0miris_norm_L\u001b[0m\u001b[1;33m,\u001b[0m \u001b[0miris_norm_R\u001b[0m \u001b[1;33m=\u001b[0m \u001b[0mcreate_iris_norm_seg\u001b[0m\u001b[1;33m(\u001b[0m\u001b[1;34m'Iris-Dataset/CASIA-Iris-Thousand'\u001b[0m\u001b[1;33m,\u001b[0m \u001b[1;32mNone\u001b[0m\u001b[1;33m,\u001b[0m \u001b[1;36m1000\u001b[0m\u001b[1;33m)\u001b[0m\u001b[1;33m\u001b[0m\u001b[1;33m\u001b[0m\u001b[0m\n\u001b[0m",
      "\u001b[1;32mc:\\Users\\jimyj\\Desktop\\TAIST\\Thesis\\Source_Code\\main\\module\\iris_preprocessing.py\u001b[0m in \u001b[0;36mcreate_iris_norm_seg\u001b[1;34m(img_folder, test_beg, test_til)\u001b[0m\n\u001b[0;32m    310\u001b[0m \u001b[1;33m\u001b[0m\u001b[0m\n\u001b[0;32m    311\u001b[0m                         iris_norm, map_area = normalization_seg(\n\u001b[1;32m--> 312\u001b[1;33m                             img, contour_pupil_inter, contour_iris_inter)\n\u001b[0m\u001b[0;32m    313\u001b[0m \u001b[1;33m\u001b[0m\u001b[0m\n\u001b[0;32m    314\u001b[0m                         \u001b[1;32mif\u001b[0m \u001b[0meye\u001b[0m \u001b[1;33m==\u001b[0m \u001b[1;34m'L'\u001b[0m\u001b[1;33m:\u001b[0m\u001b[1;33m\u001b[0m\u001b[1;33m\u001b[0m\u001b[0m\n",
      "\u001b[1;32mc:\\Users\\jimyj\\Desktop\\TAIST\\Thesis\\Source_Code\\main\\module\\densenet_seg\\iris_seg.py\u001b[0m in \u001b[0;36mnormalization_seg\u001b[1;34m(img, pupil_circle, iris_circle, M, N, offset)\u001b[0m\n\u001b[0;32m     41\u001b[0m                          \u001b[1;32mif\u001b[0m \u001b[1;36m0\u001b[0m \u001b[1;33m<=\u001b[0m \u001b[0mint\u001b[0m\u001b[1;33m(\u001b[0m\u001b[0mx\u001b[0m\u001b[1;33m)\u001b[0m \u001b[1;33m<\u001b[0m \u001b[0mimg\u001b[0m\u001b[1;33m.\u001b[0m\u001b[0mshape\u001b[0m\u001b[1;33m[\u001b[0m\u001b[1;36m1\u001b[0m\u001b[1;33m]\u001b[0m \u001b[1;32mand\u001b[0m \u001b[1;36m0\u001b[0m \u001b[1;33m<=\u001b[0m \u001b[0mint\u001b[0m\u001b[1;33m(\u001b[0m\u001b[0my\u001b[0m\u001b[1;33m)\u001b[0m \u001b[1;33m<\u001b[0m \u001b[0mimg\u001b[0m\u001b[1;33m.\u001b[0m\u001b[0mshape\u001b[0m\u001b[1;33m[\u001b[0m\u001b[1;36m0\u001b[0m\u001b[1;33m]\u001b[0m\u001b[1;33m\u001b[0m\u001b[1;33m\u001b[0m\u001b[0m\n\u001b[0;32m     42\u001b[0m                          \u001b[1;32melse\u001b[0m \u001b[1;36m0\u001b[0m\u001b[1;33m\u001b[0m\u001b[1;33m\u001b[0m\u001b[0m\n\u001b[1;32m---> 43\u001b[1;33m                          for x, y in zip(xspace, yspace)])\n\u001b[0m\u001b[0;32m     44\u001b[0m \u001b[1;33m\u001b[0m\u001b[0m\n\u001b[0;32m     45\u001b[0m     \u001b[1;32mreturn\u001b[0m \u001b[0mnormalized\u001b[0m\u001b[1;33m,\u001b[0m \u001b[0mnp\u001b[0m\u001b[1;33m.\u001b[0m\u001b[0marray\u001b[0m\u001b[1;33m(\u001b[0m\u001b[0mmap_area\u001b[0m\u001b[1;33m)\u001b[0m\u001b[1;33m\u001b[0m\u001b[1;33m\u001b[0m\u001b[0m\n",
      "\u001b[1;32mc:\\Users\\jimyj\\Desktop\\TAIST\\Thesis\\Source_Code\\main\\module\\densenet_seg\\iris_seg.py\u001b[0m in \u001b[0;36m<listcomp>\u001b[1;34m(.0)\u001b[0m\n\u001b[0;32m     41\u001b[0m                          \u001b[1;32mif\u001b[0m \u001b[1;36m0\u001b[0m \u001b[1;33m<=\u001b[0m \u001b[0mint\u001b[0m\u001b[1;33m(\u001b[0m\u001b[0mx\u001b[0m\u001b[1;33m)\u001b[0m \u001b[1;33m<\u001b[0m \u001b[0mimg\u001b[0m\u001b[1;33m.\u001b[0m\u001b[0mshape\u001b[0m\u001b[1;33m[\u001b[0m\u001b[1;36m1\u001b[0m\u001b[1;33m]\u001b[0m \u001b[1;32mand\u001b[0m \u001b[1;36m0\u001b[0m \u001b[1;33m<=\u001b[0m \u001b[0mint\u001b[0m\u001b[1;33m(\u001b[0m\u001b[0my\u001b[0m\u001b[1;33m)\u001b[0m \u001b[1;33m<\u001b[0m \u001b[0mimg\u001b[0m\u001b[1;33m.\u001b[0m\u001b[0mshape\u001b[0m\u001b[1;33m[\u001b[0m\u001b[1;36m0\u001b[0m\u001b[1;33m]\u001b[0m\u001b[1;33m\u001b[0m\u001b[1;33m\u001b[0m\u001b[0m\n\u001b[0;32m     42\u001b[0m                          \u001b[1;32melse\u001b[0m \u001b[1;36m0\u001b[0m\u001b[1;33m\u001b[0m\u001b[1;33m\u001b[0m\u001b[0m\n\u001b[1;32m---> 43\u001b[1;33m                          for x, y in zip(xspace, yspace)])\n\u001b[0m\u001b[0;32m     44\u001b[0m \u001b[1;33m\u001b[0m\u001b[0m\n\u001b[0;32m     45\u001b[0m     \u001b[1;32mreturn\u001b[0m \u001b[0mnormalized\u001b[0m\u001b[1;33m,\u001b[0m \u001b[0mnp\u001b[0m\u001b[1;33m.\u001b[0m\u001b[0marray\u001b[0m\u001b[1;33m(\u001b[0m\u001b[0mmap_area\u001b[0m\u001b[1;33m)\u001b[0m\u001b[1;33m\u001b[0m\u001b[1;33m\u001b[0m\u001b[0m\n",
      "\u001b[1;31mKeyboardInterrupt\u001b[0m: "
     ]
    }
   ],
   "source": [
    "iris_norm_L, iris_norm_R = create_iris_norm_seg('Iris-Dataset/CASIA-Iris-Thousand', None, 1000)"
   ]
  },
  {
   "cell_type": "code",
   "execution_count": 39,
   "metadata": {},
   "outputs": [],
   "source": [
    "def plot_iris_norm(iris_norm_L, iris_norm_R, image):\n",
    "    fig = plt.figure(figsize=(20, 2*image))\n",
    "    for i in range(image):\n",
    "        plt.subplot(image, 2, i*2+1)\n",
    "        plt.imshow(iris_norm_L[i], cmap='gray')\n",
    "        plt.title(f'Left Iris: {(i)%10}')\n",
    "        plt.subplot(image, 2, i*2+2)\n",
    "        plt.imshow(iris_norm_R[i], cmap='gray')\n",
    "        plt.title(f'Right Iris: {(i)%10}')\n",
    "    plt.show()"
   ]
  },
  {
   "cell_type": "code",
   "execution_count": 41,
   "metadata": {},
   "outputs": [],
   "source": [
    "# plot_iris_norm(iris_norm_L, iris_norm_R, 20)"
   ]
  },
  {
   "cell_type": "code",
   "execution_count": null,
   "metadata": {},
   "outputs": [],
   "source": [
    "np.savez('temp_data/iris_norm_seg_all.npz',\n",
    "             iris_norm_L=iris_norm_L,\n",
    "             iris_norm_R=iris_norm_R)"
   ]
  },
  {
   "cell_type": "code",
   "execution_count": 2,
   "metadata": {},
   "outputs": [],
   "source": [
    "# dir1s = []\n",
    "# files = []\n",
    "# test_beg = None\n",
    "# test_til = 2\n",
    "# for dir1 in os.listdir('Iris-Dataset/CASIA-Iris-Thousand')[test_beg:test_til]:\n",
    "#     dir1s.append(dir1)\n",
    "#     for eye in os.listdir(os.path.join('Iris-Dataset/CASIA-Iris-Thousand', dir1)):\n",
    "#         for file in list(os.listdir(os.path.join('Iris-Dataset/CASIA-Iris-Thousand', dir1, eye))):\n",
    "#             if file.endswith('.jpg'):\n",
    "#                 files.append(file)\n",
    "            \n",
    "# num_files_per_dir = 10\n",
    "# dir_files = [files[i:i+num_files_per_dir] for i in range(0, len(files), num_files_per_dir)]\n",
    "# image_combinations = [(dir1s[i//2], dir1[j]) for i, dir1 in enumerate(dir_files) for j in range(len(dir1))]"
   ]
  },
  {
   "cell_type": "code",
   "execution_count": 7,
   "metadata": {},
   "outputs": [],
   "source": [
    "# pd.concat([iris_norm_multi[~iris_norm_multi['files_name'].apply(lambda x: len(x)==0)], iris_norm_test[~iris_norm_test['files_name'].apply(lambda x: len(x)==0)]], axis=0)"
   ]
  },
  {
   "cell_type": "code",
   "execution_count": 9,
   "metadata": {},
   "outputs": [],
   "source": [
    "# np.array_equal(iris_norm_L_multi, iris_norm_L_test), np.array_equal(iris_norm_R_multi, iris_norm_R_test)"
   ]
  },
  {
   "cell_type": "code",
   "execution_count": 2,
   "metadata": {},
   "outputs": [
    {
     "data": {
      "application/vnd.jupyter.widget-view+json": {
       "model_id": "3dbd2ac17ee643729be762f3a2c9e452",
       "version_major": 2,
       "version_minor": 0
      },
      "text/plain": [
       "Normalizing:   0%|          | 0/2000 [00:00<?, ?it/s]"
      ]
     },
     "metadata": {},
     "output_type": "display_data"
    }
   ],
   "source": [
    "iris_norm_multi = create_iris_norm_enhanced_multi('Iris-Dataset/CASIA-Iris-Thousand', 700, 1000)"
   ]
  },
  {
   "cell_type": "code",
   "execution_count": null,
   "metadata": {},
   "outputs": [],
   "source": [
    "# save_iris_norm(iris_norm_multi)"
   ]
  },
  {
   "cell_type": "code",
   "execution_count": 2,
   "metadata": {},
   "outputs": [],
   "source": [
    "# load the features from the file\n",
    "with np.load('temp_data/iris_norm_all.npz') as data:\n",
    "    iris_norm_L = data['iris_norm_L']\n",
    "    iris_norm_R = data['iris_norm_R']"
   ]
  },
  {
   "cell_type": "code",
   "execution_count": null,
   "metadata": {},
   "outputs": [],
   "source": [
    "import matplotlib.pyplot as plt"
   ]
  },
  {
   "cell_type": "code",
   "execution_count": null,
   "metadata": {},
   "outputs": [],
   "source": [
    "def plot_norm_img(iris_norm_L, iris_norm_R, iris_norm_L_test=None, iris_norm_R_test=None, image=0):\n",
    "    figure = plt.figure(figsize=(20, 4))\n",
    "    figure.add_subplot(2, 2, 1)\n",
    "    plt.imshow(iris_norm_L[image], cmap='gray')\n",
    "    figure.add_subplot(2, 2, 2)\n",
    "    plt.imshow(iris_norm_R[image], cmap='gray')\n",
    "    if iris_norm_L_test is not None and iris_norm_R_test is not None:\n",
    "        figure.add_subplot(2, 2, 3)\n",
    "        plt.imshow(iris_norm_L_test[image], cmap='gray')\n",
    "        figure.add_subplot(2, 2, 4)\n",
    "        plt.imshow(iris_norm_R_test[image], cmap='gray')"
   ]
  },
  {
   "cell_type": "code",
   "execution_count": null,
   "metadata": {},
   "outputs": [],
   "source": [
    "# plot_norm_img(iris_norm_L, iris_norm_R, iris_norm_L_test, iris_norm_R_test, image=8)"
   ]
  },
  {
   "cell_type": "code",
   "execution_count": null,
   "metadata": {},
   "outputs": [],
   "source": [
    "# np.save('temp_data/iris_norm_L_all.npy', iris_norm_L)\n",
    "# np.save('temp_data/iris_norm_R_all.npy', iris_norm_R)"
   ]
  },
  {
   "cell_type": "code",
   "execution_count": null,
   "metadata": {},
   "outputs": [],
   "source": [
    "# iris_norm_L = np.load('temp_data/iris_norm_L_all.npy')\n",
    "# iris_norm_R = np.load('temp_data/iris_norm_R_all.npy')"
   ]
  },
  {
   "cell_type": "code",
   "execution_count": null,
   "metadata": {},
   "outputs": [],
   "source": [
    "iris_norm_L.shape, iris_norm_R.shape"
   ]
  },
  {
   "cell_type": "code",
   "execution_count": null,
   "metadata": {},
   "outputs": [],
   "source": [
    "iris_norm_L_fold, iris_norm_R_fold = create_fold_norm(iris_norm_L, iris_norm_R, 2)"
   ]
  },
  {
   "cell_type": "code",
   "execution_count": null,
   "metadata": {},
   "outputs": [],
   "source": [
    "iris_norm_L_fold.shape, iris_norm_R_fold.shape"
   ]
  },
  {
   "cell_type": "code",
   "execution_count": null,
   "metadata": {},
   "outputs": [],
   "source": [
    "plt.imshow(iris_norm_L_fold[0])"
   ]
  },
  {
   "cell_type": "code",
   "execution_count": null,
   "metadata": {},
   "outputs": [],
   "source": [
    "plt.imshow(iris_norm_L[2])"
   ]
  },
  {
   "cell_type": "code",
   "execution_count": null,
   "metadata": {},
   "outputs": [],
   "source": [
    "np.where(np.all(iris_norm_L == 0, axis=(1,2)))"
   ]
  },
  {
   "cell_type": "code",
   "execution_count": null,
   "metadata": {},
   "outputs": [],
   "source": [
    "# def create_iris_norm_add(img_folder):\n",
    "\n",
    "#     iris_norm_L = list(np.load('temp_data/iris_norm_L.npy'))\n",
    "#     iris_norm_R = list(np.load('temp_data/iris_norm_R.npy'))\n",
    "   \n",
    "#     for dir1 in tqdm(os.listdir(img_folder)):\n",
    "#         for eye in os.listdir(os.path.join(img_folder, dir1)):\n",
    "#             for file in list(os.listdir(os.path.join(img_folder, dir1, eye))[i] for i in [2, 4, 6, 8]):\n",
    "#                 if int(dir1) > 954:\n",
    "#                     image_path= os.path.join(img_folder, dir1, eye, file)\n",
    "#                     img = read_image(image_path)\n",
    "#                     _, snake, circles = localization(img, N=400)\n",
    "#                     pupil_circle = circles\n",
    "#                     iris_circle = np.flip(np.array(snake).astype(int), 1)\n",
    "#                     if circles[2] is None:\n",
    "#                         if eye == 'L':\n",
    "#                             iris_norm_L.append(np.zeros((64, 400)))\n",
    "#                         else:\n",
    "#                             iris_norm_R.append(np.zeros((64, 400)))\n",
    "#                     else:\n",
    "#                         # Image Preprocessing (Normalization)\n",
    "#                         iris_norm = normalization(img, pupil_circle, iris_circle)\n",
    "#                         if eye == 'L':\n",
    "#                             iris_norm_L.append(iris_norm)\n",
    "#                         else:\n",
    "#                             iris_norm_R.append(iris_norm)\n",
    "#         # np.save('temp_data/iris_norm_L.npy', iris_norm_L)\n",
    "#         # np.save('temp_data/iris_norm_R.npy', iris_norm_R)\n",
    "                \n",
    "#     return np.array(iris_norm_L), np.array(iris_norm_R)"
   ]
  },
  {
   "cell_type": "code",
   "execution_count": null,
   "metadata": {},
   "outputs": [],
   "source": [
    "# iris_norm_L, iris_norm_R = create_iris_norm_add('Iris-Dataset/CASIA-Iris-Thousand')"
   ]
  },
  {
   "cell_type": "code",
   "execution_count": null,
   "metadata": {},
   "outputs": [],
   "source": [
    "img_1_fol = 949\n",
    "img_1_item = 3\n",
    "img_1_L = read_image(\n",
    "    f'Iris-Dataset/CASIA-Iris-Thousand/{str(img_1_fol).zfill(3)}/L/S5{str(img_1_fol).zfill(3)}L{str((img_1_item + 1)*2).zfill(2)}.jpg')\n",
    "img_1_R = read_image(\n",
    "    f'Iris-Dataset/CASIA-Iris-Thousand/{str(img_1_fol).zfill(3)}/R/S5{str(img_1_fol).zfill(3)}R{str((img_1_item + 1)*2).zfill(2)}.jpg')\n"
   ]
  },
  {
   "cell_type": "code",
   "execution_count": null,
   "metadata": {},
   "outputs": [],
   "source": [
    "img = img_1_R\n",
    "\n",
    "_, snake, circles = localization(img, N=400)\n",
    "\n",
    "pupil_circle = circles\n",
    "iris_circle = np.flip(np.array(snake).astype(int), 1)\n",
    "\n",
    "if circles[2] is None:\n",
    "    print('No Iris')\n",
    "else:\n",
    "    # Image Preprocessing (Normalization)\n",
    "    iris_norm_new = normalization(img, pupil_circle, iris_circle)"
   ]
  },
  {
   "cell_type": "code",
   "execution_count": null,
   "metadata": {},
   "outputs": [],
   "source": [
    "plt.imshow(iris_norm_new)"
   ]
  },
  {
   "cell_type": "code",
   "execution_count": null,
   "metadata": {},
   "outputs": [],
   "source": [
    "plt.imshow(iris_norm_R[(img_1_fol)* 4 + img_1_item])"
   ]
  },
  {
   "cell_type": "code",
   "execution_count": null,
   "metadata": {},
   "outputs": [],
   "source": []
  }
 ],
 "metadata": {
  "kernelspec": {
   "display_name": "Python 3",
   "language": "python",
   "name": "python3"
  },
  "language_info": {
   "codemirror_mode": {
    "name": "ipython",
    "version": 3
   },
   "file_extension": ".py",
   "mimetype": "text/x-python",
   "name": "python",
   "nbconvert_exporter": "python",
   "pygments_lexer": "ipython3",
   "version": "3.7.9"
  },
  "orig_nbformat": 4
 },
 "nbformat": 4,
 "nbformat_minor": 2
}
