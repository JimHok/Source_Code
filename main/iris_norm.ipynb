{
 "cells": [
  {
   "cell_type": "code",
   "execution_count": 1,
   "metadata": {},
   "outputs": [
    {
     "name": "stderr",
     "output_type": "stream",
     "text": [
      "d:\\Users\\jimyj\\Desktop\\TAIST\\Thesis\\Source_Code\\main\\module\\iris_preprocessing.py:8: TqdmExperimentalWarning: Using `tqdm.autonotebook.tqdm` in notebook mode. Use `tqdm.tqdm` instead to force console mode (e.g. in jupyter console)\n",
      "  from tqdm.autonotebook import tqdm\n",
      "Intel(R) Extension for Scikit-learn* enabled (https://github.com/intel/scikit-learn-intelex)\n"
     ]
    }
   ],
   "source": [
    "from module.Iris_recognition import *\n",
    "from module.Periocular_recognition import *\n",
    "from module.img_enhance.half_UGV import *\n",
    "from module.img_enhance.reflection_removal import * \n",
    "from module.iris_preprocessing import *\n",
    "from module.periocular_cnn import *\n",
    "import os"
   ]
  },
  {
   "cell_type": "code",
   "execution_count": 2,
   "metadata": {},
   "outputs": [],
   "source": [
    "# iris_norm_L, iris_norm_R = create_iris_norm_seg('Iris-Dataset/CASIA-Iris-Thousand', None, 1000)"
   ]
  },
  {
   "cell_type": "code",
   "execution_count": 3,
   "metadata": {},
   "outputs": [],
   "source": [
    "# def plot_iris_norm(iris_norm_L, iris_norm_R, image):\n",
    "#     fig = plt.figure(figsize=(20, 2*image))\n",
    "#     for i in range(image):\n",
    "#         plt.subplot(image, 2, i*2+1)\n",
    "#         plt.imshow(iris_norm_L[i], cmap='gray')\n",
    "#         plt.title(f'Left Iris: {(i)%10}')\n",
    "#         plt.subplot(image, 2, i*2+2)\n",
    "#         plt.imshow(iris_norm_R[i], cmap='gray')\n",
    "#         plt.title(f'Right Iris: {(i)%10}')\n",
    "#     plt.show()"
   ]
  },
  {
   "cell_type": "code",
   "execution_count": 4,
   "metadata": {},
   "outputs": [],
   "source": [
    "# plot_iris_norm(iris_norm_L, iris_norm_R, 20)"
   ]
  },
  {
   "cell_type": "code",
   "execution_count": 5,
   "metadata": {},
   "outputs": [],
   "source": [
    "# dir1s = []\n",
    "# files = []\n",
    "# test_beg = None\n",
    "# test_til = 2\n",
    "# for dir1 in os.listdir('Iris-Dataset/CASIA-Iris-Thousand')[test_beg:test_til]:\n",
    "#     dir1s.append(dir1)\n",
    "#     for eye in os.listdir(os.path.join('Iris-Dataset/CASIA-Iris-Thousand', dir1)):\n",
    "#         for file in list(os.listdir(os.path.join('Iris-Dataset/CASIA-Iris-Thousand', dir1, eye))):\n",
    "#             if file.endswith('.jpg'):\n",
    "#                 files.append(file)\n",
    "            \n",
    "# num_files_per_dir = 10\n",
    "# dir_files = [files[i:i+num_files_per_dir] for i in range(0, len(files), num_files_per_dir)]\n",
    "# image_combinations = [(dir1s[i//2], dir1[j]) for i, dir1 in enumerate(dir_files) for j in range(len(dir1))]"
   ]
  },
  {
   "cell_type": "code",
   "execution_count": 6,
   "metadata": {},
   "outputs": [],
   "source": [
    "# pd.concat([iris_norm_multi[~iris_norm_multi['files_name'].apply(lambda x: len(x)==0)], iris_norm_test[~iris_norm_test['files_name'].apply(lambda x: len(x)==0)]], axis=0)"
   ]
  },
  {
   "cell_type": "code",
   "execution_count": 7,
   "metadata": {},
   "outputs": [],
   "source": [
    "# np.array_equal(iris_norm_L_multi, iris_norm_L_test), np.array_equal(iris_norm_R_multi, iris_norm_R_test)"
   ]
  },
  {
   "cell_type": "code",
   "execution_count": 8,
   "metadata": {},
   "outputs": [],
   "source": [
    "img_p_cl = 15"
   ]
  },
  {
   "cell_type": "code",
   "execution_count": 9,
   "metadata": {},
   "outputs": [
    {
     "data": {
      "application/vnd.jupyter.widget-view+json": {
       "model_id": "300e317876ed4bc0a2c167b425099692",
       "version_major": 2,
       "version_minor": 0
      },
      "text/plain": [
       "  0%|          | 0/7080 [00:00<?, ?it/s]"
      ]
     },
     "metadata": {},
     "output_type": "display_data"
    }
   ],
   "source": [
    "_, iris_label = load_UBIPr('Iris-Dataset/UBIPr', img_p_cl)"
   ]
  },
  {
   "cell_type": "code",
   "execution_count": 10,
   "metadata": {},
   "outputs": [
    {
     "name": "stdout",
     "output_type": "stream",
     "text": [
      "30\n"
     ]
    },
    {
     "data": {
      "application/vnd.jupyter.widget-view+json": {
       "model_id": "4d6e7800e1ea4fceabc4d740908c3643",
       "version_major": 2,
       "version_minor": 0
      },
      "text/plain": [
       "Normalizing:   0%|          | 0/30 [00:00<?, ?it/s]"
      ]
     },
     "metadata": {},
     "output_type": "display_data"
    }
   ],
   "source": [
    "iris_norm_multi = iris_norm_final(iris_label, 0, 1, 15)"
   ]
  },
  {
   "cell_type": "code",
   "execution_count": 11,
   "metadata": {},
   "outputs": [
    {
     "data": {
      "text/html": [
       "<div>\n",
       "<style scoped>\n",
       "    .dataframe tbody tr th:only-of-type {\n",
       "        vertical-align: middle;\n",
       "    }\n",
       "\n",
       "    .dataframe tbody tr th {\n",
       "        vertical-align: top;\n",
       "    }\n",
       "\n",
       "    .dataframe thead th {\n",
       "        text-align: right;\n",
       "    }\n",
       "</style>\n",
       "<table border=\"1\" class=\"dataframe\">\n",
       "  <thead>\n",
       "    <tr style=\"text-align: right;\">\n",
       "      <th></th>\n",
       "      <th>files_name</th>\n",
       "      <th>iris_norm_L</th>\n",
       "      <th>iris_norm_R</th>\n",
       "    </tr>\n",
       "  </thead>\n",
       "  <tbody>\n",
       "    <tr>\n",
       "      <th>0</th>\n",
       "      <td>000</td>\n",
       "      <td>[[44.0, 33.0, 32.0, 32.0, 32.0, 33.0, 33.0, 36...</td>\n",
       "      <td>[[44.0, 34.0, 36.0, 36.0, 37.0, 38.0, 38.0, 38...</td>\n",
       "    </tr>\n",
       "    <tr>\n",
       "      <th>1</th>\n",
       "      <td>000</td>\n",
       "      <td>[[50.0, 46.0, 45.0, 45.0, 44.0, 43.0, 43.0, 42...</td>\n",
       "      <td>[[211.0, 71.0, 85.0, 85.0, 86.0, 136.0, 136.0,...</td>\n",
       "    </tr>\n",
       "    <tr>\n",
       "      <th>2</th>\n",
       "      <td>000</td>\n",
       "      <td>[[59.0, 48.0, 46.0, 47.0, 47.0, 47.0, 48.0, 48...</td>\n",
       "      <td>[[71.0, 54.0, 56.0, 56.0, 57.0, 58.0, 58.0, 59...</td>\n",
       "    </tr>\n",
       "    <tr>\n",
       "      <th>3</th>\n",
       "      <td>000</td>\n",
       "      <td>[[21.0, 16.0, 19.0, 22.0, 23.0, 23.0, 21.0, 22...</td>\n",
       "      <td>[[40.0, 29.0, 41.0, 38.0, 46.0, 46.0, 50.0, 59...</td>\n",
       "    </tr>\n",
       "    <tr>\n",
       "      <th>4</th>\n",
       "      <td>000</td>\n",
       "      <td>[[14.0, 13.0, 13.0, 13.0, 13.0, 14.0, 14.0, 15...</td>\n",
       "      <td>[[45.0, 39.0, 38.0, 40.0, 40.0, 48.0, 50.0, 50...</td>\n",
       "    </tr>\n",
       "    <tr>\n",
       "      <th>5</th>\n",
       "      <td>000</td>\n",
       "      <td>[[39.0, 29.0, 31.0, 32.0, 32.0, 35.0, 35.0, 35...</td>\n",
       "      <td>[[46.0, 45.0, 43.0, 43.0, 43.0, 45.0, 46.0, 46...</td>\n",
       "    </tr>\n",
       "    <tr>\n",
       "      <th>6</th>\n",
       "      <td>000</td>\n",
       "      <td>[[71.0, 63.0, 65.0, 64.0, 62.0, 61.0, 60.0, 60...</td>\n",
       "      <td>[[41.0, 36.0, 35.0, 34.0, 33.0, 34.0, 36.0, 40...</td>\n",
       "    </tr>\n",
       "    <tr>\n",
       "      <th>7</th>\n",
       "      <td>000</td>\n",
       "      <td>[[98.0, 106.0, 92.0, 79.0, 76.0, 87.0, 100.0, ...</td>\n",
       "      <td>[[51.0, 52.0, 49.0, 46.0, 49.0, 52.0, 54.0, 54...</td>\n",
       "    </tr>\n",
       "    <tr>\n",
       "      <th>8</th>\n",
       "      <td>000</td>\n",
       "      <td>[[57.0, 50.0, 54.0, 54.0, 58.0, 62.0, 61.0, 57...</td>\n",
       "      <td>[[216.0, 201.0, 178.0, 154.0, 141.0, 93.0, 93....</td>\n",
       "    </tr>\n",
       "    <tr>\n",
       "      <th>9</th>\n",
       "      <td>000</td>\n",
       "      <td>[[49.0, 54.0, 54.0, 53.0, 53.0, 53.0, 52.0, 52...</td>\n",
       "      <td>[[36.0, 34.0, 36.0, 36.0, 45.0, 49.0, 45.0, 53...</td>\n",
       "    </tr>\n",
       "    <tr>\n",
       "      <th>10</th>\n",
       "      <td>000</td>\n",
       "      <td>[[71.0, 68.0, 70.0, 67.0, 67.0, 67.0, 65.0, 64...</td>\n",
       "      <td>[[83.0, 81.0, 81.0, 80.0, 80.0, 80.0, 81.0, 81...</td>\n",
       "    </tr>\n",
       "    <tr>\n",
       "      <th>11</th>\n",
       "      <td>000</td>\n",
       "      <td>[[63.0, 54.0, 57.0, 56.0, 53.0, 53.0, 57.0, 59...</td>\n",
       "      <td>[[104.0, 103.0, 107.0, 105.0, 110.0, 106.0, 10...</td>\n",
       "    </tr>\n",
       "    <tr>\n",
       "      <th>12</th>\n",
       "      <td>000</td>\n",
       "      <td>[[126.0, 129.0, 129.0, 129.0, 131.0, 131.0, 13...</td>\n",
       "      <td>[[145.0, 150.0, 150.0, 155.0, 155.0, 151.0, 15...</td>\n",
       "    </tr>\n",
       "    <tr>\n",
       "      <th>13</th>\n",
       "      <td>000</td>\n",
       "      <td>[[48.0, 46.0, 46.0, 46.0, 48.0, 51.0, 53.0, 54...</td>\n",
       "      <td>[[35.0, 27.0, 27.0, 27.0, 24.0, 24.0, 24.0, 19...</td>\n",
       "    </tr>\n",
       "    <tr>\n",
       "      <th>14</th>\n",
       "      <td>000</td>\n",
       "      <td>[[16.0, 15.0, 15.0, 13.0, 13.0, 13.0, 12.0, 12...</td>\n",
       "      <td>[[120.0, 130.0, 118.0, 118.0, 105.0, 105.0, 76...</td>\n",
       "    </tr>\n",
       "  </tbody>\n",
       "</table>\n",
       "</div>"
      ],
      "text/plain": [
       "   files_name                                        iris_norm_L  \\\n",
       "0         000  [[44.0, 33.0, 32.0, 32.0, 32.0, 33.0, 33.0, 36...   \n",
       "1         000  [[50.0, 46.0, 45.0, 45.0, 44.0, 43.0, 43.0, 42...   \n",
       "2         000  [[59.0, 48.0, 46.0, 47.0, 47.0, 47.0, 48.0, 48...   \n",
       "3         000  [[21.0, 16.0, 19.0, 22.0, 23.0, 23.0, 21.0, 22...   \n",
       "4         000  [[14.0, 13.0, 13.0, 13.0, 13.0, 14.0, 14.0, 15...   \n",
       "5         000  [[39.0, 29.0, 31.0, 32.0, 32.0, 35.0, 35.0, 35...   \n",
       "6         000  [[71.0, 63.0, 65.0, 64.0, 62.0, 61.0, 60.0, 60...   \n",
       "7         000  [[98.0, 106.0, 92.0, 79.0, 76.0, 87.0, 100.0, ...   \n",
       "8         000  [[57.0, 50.0, 54.0, 54.0, 58.0, 62.0, 61.0, 57...   \n",
       "9         000  [[49.0, 54.0, 54.0, 53.0, 53.0, 53.0, 52.0, 52...   \n",
       "10        000  [[71.0, 68.0, 70.0, 67.0, 67.0, 67.0, 65.0, 64...   \n",
       "11        000  [[63.0, 54.0, 57.0, 56.0, 53.0, 53.0, 57.0, 59...   \n",
       "12        000  [[126.0, 129.0, 129.0, 129.0, 131.0, 131.0, 13...   \n",
       "13        000  [[48.0, 46.0, 46.0, 46.0, 48.0, 51.0, 53.0, 54...   \n",
       "14        000  [[16.0, 15.0, 15.0, 13.0, 13.0, 13.0, 12.0, 12...   \n",
       "\n",
       "                                          iris_norm_R  \n",
       "0   [[44.0, 34.0, 36.0, 36.0, 37.0, 38.0, 38.0, 38...  \n",
       "1   [[211.0, 71.0, 85.0, 85.0, 86.0, 136.0, 136.0,...  \n",
       "2   [[71.0, 54.0, 56.0, 56.0, 57.0, 58.0, 58.0, 59...  \n",
       "3   [[40.0, 29.0, 41.0, 38.0, 46.0, 46.0, 50.0, 59...  \n",
       "4   [[45.0, 39.0, 38.0, 40.0, 40.0, 48.0, 50.0, 50...  \n",
       "5   [[46.0, 45.0, 43.0, 43.0, 43.0, 45.0, 46.0, 46...  \n",
       "6   [[41.0, 36.0, 35.0, 34.0, 33.0, 34.0, 36.0, 40...  \n",
       "7   [[51.0, 52.0, 49.0, 46.0, 49.0, 52.0, 54.0, 54...  \n",
       "8   [[216.0, 201.0, 178.0, 154.0, 141.0, 93.0, 93....  \n",
       "9   [[36.0, 34.0, 36.0, 36.0, 45.0, 49.0, 45.0, 53...  \n",
       "10  [[83.0, 81.0, 81.0, 80.0, 80.0, 80.0, 81.0, 81...  \n",
       "11  [[104.0, 103.0, 107.0, 105.0, 110.0, 106.0, 10...  \n",
       "12  [[145.0, 150.0, 150.0, 155.0, 155.0, 151.0, 15...  \n",
       "13  [[35.0, 27.0, 27.0, 27.0, 24.0, 24.0, 24.0, 19...  \n",
       "14  [[120.0, 130.0, 118.0, 118.0, 105.0, 105.0, 76...  "
      ]
     },
     "execution_count": 11,
     "metadata": {},
     "output_type": "execute_result"
    }
   ],
   "source": [
    "iris_norm_multi"
   ]
  },
  {
   "cell_type": "code",
   "execution_count": 4,
   "metadata": {},
   "outputs": [],
   "source": [
    "save_iris_norm(\"temp_data/iris_norm_lamp.npz\", iris_norm_multi)"
   ]
  },
  {
   "cell_type": "code",
   "execution_count": 5,
   "metadata": {},
   "outputs": [],
   "source": [
    "# load the features from the file\n",
    "with np.load('temp_data/iris_norm_lamp.npz') as data:\n",
    "    iris_norm_L = data['iris_norm_L']\n",
    "    iris_norm_R = data['iris_norm_R']"
   ]
  },
  {
   "cell_type": "code",
   "execution_count": null,
   "metadata": {},
   "outputs": [],
   "source": [
    "import matplotlib.pyplot as plt"
   ]
  },
  {
   "cell_type": "code",
   "execution_count": null,
   "metadata": {},
   "outputs": [],
   "source": [
    "def plot_norm_img(iris_norm_L, iris_norm_R, iris_norm_L_test=None, iris_norm_R_test=None, image=0):\n",
    "    figure = plt.figure(figsize=(20, 4))\n",
    "    figure.add_subplot(2, 2, 1)\n",
    "    plt.imshow(iris_norm_L[image], cmap='gray')\n",
    "    figure.add_subplot(2, 2, 2)\n",
    "    plt.imshow(iris_norm_R[image], cmap='gray')\n",
    "    if iris_norm_L_test is not None and iris_norm_R_test is not None:\n",
    "        figure.add_subplot(2, 2, 3)\n",
    "        plt.imshow(iris_norm_L_test[image], cmap='gray')\n",
    "        figure.add_subplot(2, 2, 4)\n",
    "        plt.imshow(iris_norm_R_test[image], cmap='gray')"
   ]
  },
  {
   "cell_type": "code",
   "execution_count": null,
   "metadata": {},
   "outputs": [],
   "source": [
    "# plot_norm_img(iris_norm_L, iris_norm_R, iris_norm_L_test, iris_norm_R_test, image=8)"
   ]
  },
  {
   "cell_type": "code",
   "execution_count": null,
   "metadata": {},
   "outputs": [],
   "source": [
    "# np.save('temp_data/iris_norm_L_all.npy', iris_norm_L)\n",
    "# np.save('temp_data/iris_norm_R_all.npy', iris_norm_R)"
   ]
  },
  {
   "cell_type": "code",
   "execution_count": null,
   "metadata": {},
   "outputs": [],
   "source": [
    "# iris_norm_L = np.load('temp_data/iris_norm_L_all.npy')\n",
    "# iris_norm_R = np.load('temp_data/iris_norm_R_all.npy')"
   ]
  },
  {
   "cell_type": "code",
   "execution_count": null,
   "metadata": {},
   "outputs": [],
   "source": [
    "iris_norm_L.shape, iris_norm_R.shape"
   ]
  },
  {
   "cell_type": "code",
   "execution_count": null,
   "metadata": {},
   "outputs": [],
   "source": [
    "iris_norm_L_fold, iris_norm_R_fold = create_fold_norm(iris_norm_L, iris_norm_R, 2)"
   ]
  },
  {
   "cell_type": "code",
   "execution_count": null,
   "metadata": {},
   "outputs": [],
   "source": [
    "iris_norm_L_fold.shape, iris_norm_R_fold.shape"
   ]
  },
  {
   "cell_type": "code",
   "execution_count": null,
   "metadata": {},
   "outputs": [],
   "source": [
    "plt.imshow(iris_norm_L_fold[0])"
   ]
  },
  {
   "cell_type": "code",
   "execution_count": null,
   "metadata": {},
   "outputs": [],
   "source": [
    "plt.imshow(iris_norm_L[2])"
   ]
  },
  {
   "cell_type": "code",
   "execution_count": null,
   "metadata": {},
   "outputs": [],
   "source": [
    "np.where(np.all(iris_norm_L == 0, axis=(1,2)))"
   ]
  },
  {
   "cell_type": "code",
   "execution_count": null,
   "metadata": {},
   "outputs": [],
   "source": [
    "# def create_iris_norm_add(img_folder):\n",
    "\n",
    "#     iris_norm_L = list(np.load('temp_data/iris_norm_L.npy'))\n",
    "#     iris_norm_R = list(np.load('temp_data/iris_norm_R.npy'))\n",
    "   \n",
    "#     for dir1 in tqdm(os.listdir(img_folder)):\n",
    "#         for eye in os.listdir(os.path.join(img_folder, dir1)):\n",
    "#             for file in list(os.listdir(os.path.join(img_folder, dir1, eye))[i] for i in [2, 4, 6, 8]):\n",
    "#                 if int(dir1) > 954:\n",
    "#                     image_path= os.path.join(img_folder, dir1, eye, file)\n",
    "#                     img = read_image(image_path)\n",
    "#                     _, snake, circles = localization(img, N=400)\n",
    "#                     pupil_circle = circles\n",
    "#                     iris_circle = np.flip(np.array(snake).astype(int), 1)\n",
    "#                     if circles[2] is None:\n",
    "#                         if eye == 'L':\n",
    "#                             iris_norm_L.append(np.zeros((64, 400)))\n",
    "#                         else:\n",
    "#                             iris_norm_R.append(np.zeros((64, 400)))\n",
    "#                     else:\n",
    "#                         # Image Preprocessing (Normalization)\n",
    "#                         iris_norm = normalization(img, pupil_circle, iris_circle)\n",
    "#                         if eye == 'L':\n",
    "#                             iris_norm_L.append(iris_norm)\n",
    "#                         else:\n",
    "#                             iris_norm_R.append(iris_norm)\n",
    "#         # np.save('temp_data/iris_norm_L.npy', iris_norm_L)\n",
    "#         # np.save('temp_data/iris_norm_R.npy', iris_norm_R)\n",
    "                \n",
    "#     return np.array(iris_norm_L), np.array(iris_norm_R)"
   ]
  },
  {
   "cell_type": "code",
   "execution_count": null,
   "metadata": {},
   "outputs": [],
   "source": [
    "# iris_norm_L, iris_norm_R = create_iris_norm_add('Iris-Dataset/CASIA-Iris-Thousand')"
   ]
  },
  {
   "cell_type": "code",
   "execution_count": null,
   "metadata": {},
   "outputs": [],
   "source": [
    "img_1_fol = 949\n",
    "img_1_item = 3\n",
    "img_1_L = read_image(\n",
    "    f'Iris-Dataset/CASIA-Iris-Thousand/{str(img_1_fol).zfill(3)}/L/S5{str(img_1_fol).zfill(3)}L{str((img_1_item + 1)*2).zfill(2)}.jpg')\n",
    "img_1_R = read_image(\n",
    "    f'Iris-Dataset/CASIA-Iris-Thousand/{str(img_1_fol).zfill(3)}/R/S5{str(img_1_fol).zfill(3)}R{str((img_1_item + 1)*2).zfill(2)}.jpg')\n"
   ]
  },
  {
   "cell_type": "code",
   "execution_count": null,
   "metadata": {},
   "outputs": [],
   "source": [
    "img = img_1_R\n",
    "\n",
    "_, snake, circles = localization(img, N=400)\n",
    "\n",
    "pupil_circle = circles\n",
    "iris_circle = np.flip(np.array(snake).astype(int), 1)\n",
    "\n",
    "if circles[2] is None:\n",
    "    print('No Iris')\n",
    "else:\n",
    "    # Image Preprocessing (Normalization)\n",
    "    iris_norm_new = normalization(img, pupil_circle, iris_circle)"
   ]
  },
  {
   "cell_type": "code",
   "execution_count": null,
   "metadata": {},
   "outputs": [],
   "source": [
    "plt.imshow(iris_norm_new)"
   ]
  },
  {
   "cell_type": "code",
   "execution_count": null,
   "metadata": {},
   "outputs": [],
   "source": [
    "plt.imshow(iris_norm_R[(img_1_fol)* 4 + img_1_item])"
   ]
  },
  {
   "cell_type": "code",
   "execution_count": null,
   "metadata": {},
   "outputs": [],
   "source": []
  }
 ],
 "metadata": {
  "kernelspec": {
   "display_name": "Python 3",
   "language": "python",
   "name": "python3"
  },
  "language_info": {
   "codemirror_mode": {
    "name": "ipython",
    "version": 3
   },
   "file_extension": ".py",
   "mimetype": "text/x-python",
   "name": "python",
   "nbconvert_exporter": "python",
   "pygments_lexer": "ipython3",
   "version": "3.10.11"
  },
  "orig_nbformat": 4
 },
 "nbformat": 4,
 "nbformat_minor": 2
}
