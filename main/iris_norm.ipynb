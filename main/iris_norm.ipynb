{
 "cells": [
  {
   "cell_type": "code",
   "execution_count": 1,
   "metadata": {},
   "outputs": [
    {
     "name": "stderr",
     "output_type": "stream",
     "text": [
      "d:\\Users\\jimyj\\Desktop\\TAIST\\Thesis\\Source_Code\\main\\module\\iris_preprocessing.py:8: TqdmExperimentalWarning: Using `tqdm.autonotebook.tqdm` in notebook mode. Use `tqdm.tqdm` instead to force console mode (e.g. in jupyter console)\n",
      "  from tqdm.autonotebook import tqdm\n",
      "Intel(R) Extension for Scikit-learn* enabled (https://github.com/intel/scikit-learn-intelex)\n"
     ]
    }
   ],
   "source": [
    "from module.Iris_recognition import *\n",
    "from module.Periocular_recognition import *\n",
    "from module.img_enhance.half_UGV import *\n",
    "from module.img_enhance.reflection_removal import * \n",
    "from module.iris_preprocessing import *\n",
    "from module.periocular_cnn import *\n",
    "import os"
   ]
  },
  {
   "cell_type": "code",
   "execution_count": 2,
   "metadata": {},
   "outputs": [],
   "source": [
    "# iris_norm_L, iris_norm_R = create_iris_norm_seg('Iris-Dataset/CASIA-Iris-Thousand', None, 1000)"
   ]
  },
  {
   "cell_type": "code",
   "execution_count": 3,
   "metadata": {},
   "outputs": [],
   "source": [
    "# plot_iris_norm(iris_norm_L, iris_norm_R, 20)"
   ]
  },
  {
   "cell_type": "code",
   "execution_count": 4,
   "metadata": {},
   "outputs": [],
   "source": [
    "img_p_cl = 15"
   ]
  },
  {
   "cell_type": "code",
   "execution_count": 6,
   "metadata": {},
   "outputs": [
    {
     "data": {
      "application/vnd.jupyter.widget-view+json": {
       "model_id": "31e2bce43c534fe8b9c9a831f4f27f6d",
       "version_major": 2,
       "version_minor": 0
      },
      "text/plain": [
       "  0%|          | 0/7080 [00:00<?, ?it/s]"
      ]
     },
     "metadata": {},
     "output_type": "display_data"
    }
   ],
   "source": [
    "_, iris_label = load_UBIPr('Iris-Dataset/UBIPr', img_p_cl)"
   ]
  },
  {
   "cell_type": "code",
   "execution_count": 7,
   "metadata": {},
   "outputs": [
    {
     "data": {
      "application/vnd.jupyter.widget-view+json": {
       "model_id": "4a35ca361f1c4136961f94f7b2930c9c",
       "version_major": 2,
       "version_minor": 0
      },
      "text/plain": [
       "Normalizing:   0%|          | 0/1710 [00:00<?, ?it/s]"
      ]
     },
     "metadata": {},
     "output_type": "display_data"
    }
   ],
   "source": [
    "iris_norm_multi = iris_norm_final(iris_label, 200, 257, 15)"
   ]
  },
  {
   "cell_type": "code",
   "execution_count": null,
   "metadata": {},
   "outputs": [],
   "source": [
    "save_iris_norm(\"temp_data/iris_norm_UBIPr.npz\", iris_norm_multi)"
   ]
  },
  {
   "cell_type": "code",
   "execution_count": null,
   "metadata": {},
   "outputs": [],
   "source": [
    "# load the features from the file\n",
    "with np.load('temp_data/iris_norm_UBIPr.npz') as data:\n",
    "    iris_norm_L = data['iris_norm_L']\n",
    "    iris_norm_R = data['iris_norm_R']"
   ]
  },
  {
   "cell_type": "code",
   "execution_count": null,
   "metadata": {},
   "outputs": [],
   "source": [
    "import matplotlib.pyplot as plt"
   ]
  },
  {
   "cell_type": "code",
   "execution_count": null,
   "metadata": {},
   "outputs": [],
   "source": [
    "def plot_norm_img(iris_norm_L, iris_norm_R, iris_norm_L_test=None, iris_norm_R_test=None, image=0):\n",
    "    figure = plt.figure(figsize=(20, 4))\n",
    "    figure.add_subplot(2, 2, 1)\n",
    "    plt.imshow(iris_norm_L[image], cmap='gray')\n",
    "    figure.add_subplot(2, 2, 2)\n",
    "    plt.imshow(iris_norm_R[image], cmap='gray')\n",
    "    if iris_norm_L_test is not None and iris_norm_R_test is not None:\n",
    "        figure.add_subplot(2, 2, 3)\n",
    "        plt.imshow(iris_norm_L_test[image], cmap='gray')\n",
    "        figure.add_subplot(2, 2, 4)\n",
    "        plt.imshow(iris_norm_R_test[image], cmap='gray')"
   ]
  },
  {
   "cell_type": "code",
   "execution_count": null,
   "metadata": {},
   "outputs": [],
   "source": [
    "# plot_norm_img(iris_norm_L, iris_norm_R, iris_norm_L_test, iris_norm_R_test, image=8)"
   ]
  },
  {
   "cell_type": "code",
   "execution_count": null,
   "metadata": {},
   "outputs": [],
   "source": [
    "# np.save('temp_data/iris_norm_L_all.npy', iris_norm_L)\n",
    "# np.save('temp_data/iris_norm_R_all.npy', iris_norm_R)"
   ]
  },
  {
   "cell_type": "code",
   "execution_count": null,
   "metadata": {},
   "outputs": [],
   "source": [
    "# iris_norm_L = np.load('temp_data/iris_norm_L_all.npy')\n",
    "# iris_norm_R = np.load('temp_data/iris_norm_R_all.npy')"
   ]
  },
  {
   "cell_type": "code",
   "execution_count": null,
   "metadata": {},
   "outputs": [],
   "source": [
    "iris_norm_L.shape, iris_norm_R.shape"
   ]
  },
  {
   "cell_type": "code",
   "execution_count": null,
   "metadata": {},
   "outputs": [],
   "source": [
    "iris_norm_L_fold, iris_norm_R_fold = create_fold_norm(iris_norm_L, iris_norm_R, 2)"
   ]
  },
  {
   "cell_type": "code",
   "execution_count": null,
   "metadata": {},
   "outputs": [],
   "source": [
    "iris_norm_L_fold.shape, iris_norm_R_fold.shape"
   ]
  },
  {
   "cell_type": "code",
   "execution_count": null,
   "metadata": {},
   "outputs": [],
   "source": [
    "plt.imshow(iris_norm_L_fold[0])"
   ]
  },
  {
   "cell_type": "code",
   "execution_count": null,
   "metadata": {},
   "outputs": [],
   "source": [
    "plt.imshow(iris_norm_L[2])"
   ]
  },
  {
   "cell_type": "code",
   "execution_count": null,
   "metadata": {},
   "outputs": [],
   "source": [
    "np.where(np.all(iris_norm_L == 0, axis=(1,2)))"
   ]
  },
  {
   "cell_type": "code",
   "execution_count": null,
   "metadata": {},
   "outputs": [],
   "source": [
    "# def create_iris_norm_add(img_folder):\n",
    "\n",
    "#     iris_norm_L = list(np.load('temp_data/iris_norm_L.npy'))\n",
    "#     iris_norm_R = list(np.load('temp_data/iris_norm_R.npy'))\n",
    "   \n",
    "#     for dir1 in tqdm(os.listdir(img_folder)):\n",
    "#         for eye in os.listdir(os.path.join(img_folder, dir1)):\n",
    "#             for file in list(os.listdir(os.path.join(img_folder, dir1, eye))[i] for i in [2, 4, 6, 8]):\n",
    "#                 if int(dir1) > 954:\n",
    "#                     image_path= os.path.join(img_folder, dir1, eye, file)\n",
    "#                     img = read_image(image_path)\n",
    "#                     _, snake, circles = localization(img, N=400)\n",
    "#                     pupil_circle = circles\n",
    "#                     iris_circle = np.flip(np.array(snake).astype(int), 1)\n",
    "#                     if circles[2] is None:\n",
    "#                         if eye == 'L':\n",
    "#                             iris_norm_L.append(np.zeros((64, 400)))\n",
    "#                         else:\n",
    "#                             iris_norm_R.append(np.zeros((64, 400)))\n",
    "#                     else:\n",
    "#                         # Image Preprocessing (Normalization)\n",
    "#                         iris_norm = normalization(img, pupil_circle, iris_circle)\n",
    "#                         if eye == 'L':\n",
    "#                             iris_norm_L.append(iris_norm)\n",
    "#                         else:\n",
    "#                             iris_norm_R.append(iris_norm)\n",
    "#         # np.save('temp_data/iris_norm_L.npy', iris_norm_L)\n",
    "#         # np.save('temp_data/iris_norm_R.npy', iris_norm_R)\n",
    "                \n",
    "#     return np.array(iris_norm_L), np.array(iris_norm_R)"
   ]
  },
  {
   "cell_type": "code",
   "execution_count": null,
   "metadata": {},
   "outputs": [],
   "source": [
    "# iris_norm_L, iris_norm_R = create_iris_norm_add('Iris-Dataset/CASIA-Iris-Thousand')"
   ]
  },
  {
   "cell_type": "code",
   "execution_count": null,
   "metadata": {},
   "outputs": [],
   "source": [
    "img_1_fol = 949\n",
    "img_1_item = 3\n",
    "img_1_L = read_image(\n",
    "    f'Iris-Dataset/CASIA-Iris-Thousand/{str(img_1_fol).zfill(3)}/L/S5{str(img_1_fol).zfill(3)}L{str((img_1_item + 1)*2).zfill(2)}.jpg')\n",
    "img_1_R = read_image(\n",
    "    f'Iris-Dataset/CASIA-Iris-Thousand/{str(img_1_fol).zfill(3)}/R/S5{str(img_1_fol).zfill(3)}R{str((img_1_item + 1)*2).zfill(2)}.jpg')\n"
   ]
  },
  {
   "cell_type": "code",
   "execution_count": null,
   "metadata": {},
   "outputs": [],
   "source": [
    "img = img_1_R\n",
    "\n",
    "_, snake, circles = localization(img, N=400)\n",
    "\n",
    "pupil_circle = circles\n",
    "iris_circle = np.flip(np.array(snake).astype(int), 1)\n",
    "\n",
    "if circles[2] is None:\n",
    "    print('No Iris')\n",
    "else:\n",
    "    # Image Preprocessing (Normalization)\n",
    "    iris_norm_new = normalization(img, pupil_circle, iris_circle)"
   ]
  },
  {
   "cell_type": "code",
   "execution_count": null,
   "metadata": {},
   "outputs": [],
   "source": [
    "plt.imshow(iris_norm_new)"
   ]
  },
  {
   "cell_type": "code",
   "execution_count": null,
   "metadata": {},
   "outputs": [],
   "source": [
    "plt.imshow(iris_norm_R[(img_1_fol)* 4 + img_1_item])"
   ]
  },
  {
   "cell_type": "code",
   "execution_count": null,
   "metadata": {},
   "outputs": [],
   "source": []
  }
 ],
 "metadata": {
  "kernelspec": {
   "display_name": "Python 3",
   "language": "python",
   "name": "python3"
  },
  "language_info": {
   "codemirror_mode": {
    "name": "ipython",
    "version": 3
   },
   "file_extension": ".py",
   "mimetype": "text/x-python",
   "name": "python",
   "nbconvert_exporter": "python",
   "pygments_lexer": "ipython3",
   "version": "3.10.11"
  },
  "orig_nbformat": 4
 },
 "nbformat": 4,
 "nbformat_minor": 2
}
