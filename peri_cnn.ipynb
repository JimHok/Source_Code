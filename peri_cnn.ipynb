{
 "cells": [
  {
   "cell_type": "code",
   "execution_count": 1,
   "metadata": {},
   "outputs": [],
   "source": [
    "import pandas as pd\n",
    "import numpy as np\n",
    "import os\n",
    "import tensorflow as tf\n",
    "import cv2\n",
    "from tensorflow import keras\n",
    "from tensorflow.keras import layers\n",
    "from tensorflow.keras.models import Sequential, Model\n",
    "from  matplotlib import pyplot as plt\n",
    "import matplotlib.image as mpimg\n",
    "from sklearn.model_selection import train_test_split\n",
    "from sklearn.preprocessing import LabelEncoder\n",
    "from tensorflow.keras.applications import ResNet101, ResNet50, VGG16, VGG19, InceptionV3, InceptionResNetV2\n",
    "from tensorflow.keras.applications.vgg16 import preprocess_input as vgg16_preprocess_input\n",
    "from tensorflow.keras.applications.resnet import preprocess_input as resnet_preprocess_input\n",
    "from tensorflow.keras.preprocessing import image\n",
    "from tqdm.auto import trange, tqdm\n",
    "from keras.utils import to_categorical"
   ]
  },
  {
   "cell_type": "code",
   "execution_count": 2,
   "metadata": {},
   "outputs": [],
   "source": [
    "def create_dataset(img_folder):\n",
    "   \n",
    "    train_data=[]\n",
    "    val_data=[]\n",
    "    test_data=[]\n",
    "    \n",
    "    train_label=[]\n",
    "    val_label=[]\n",
    "    test_label=[]\n",
    "   \n",
    "    for dir1 in tqdm(os.listdir(img_folder)):\n",
    "        for eye in os.listdir(os.path.join(img_folder, dir1)):\n",
    "            for file in list(os.listdir(os.path.join(img_folder, dir1, eye))[i] for i in [1, 3, 5, 6, 7, 9]):\n",
    "                image_path= os.path.join(img_folder, dir1, eye, file)\n",
    "                if image_path.endswith(\".jpg\") == False:\n",
    "                    continue\n",
    "                img = image.load_img(image_path, target_size=(64, 64))\n",
    "                img = image.img_to_array(img)\n",
    "                train_data.append(img)\n",
    "                train_label.append(dir1+'0' if eye == 'L' else dir1+'1')\n",
    "                \n",
    "            for file in list(os.listdir(os.path.join(img_folder, dir1, eye))[i] for i in [0, 2, 8]):\n",
    "                image_path= os.path.join(img_folder, dir1, eye, file)\n",
    "                if image_path.endswith(\".jpg\") == False:\n",
    "                    continue\n",
    "                img = image.load_img(image_path, target_size=(64, 64))\n",
    "                img = image.img_to_array(img)\n",
    "                val_data.append(img)\n",
    "                val_label.append(dir1+'0' if eye == 'L' else dir1+'1')\n",
    "                \n",
    "            for file in list(os.listdir(os.path.join(img_folder, dir1, eye))[i] for i in [4, 8]):\n",
    "                image_path= os.path.join(img_folder, dir1, eye, file)\n",
    "                if image_path.endswith(\".jpg\") == False:\n",
    "                    continue\n",
    "                img = image.load_img(image_path, target_size=(64, 64))\n",
    "                img = image.img_to_array(img)\n",
    "                test_data.append(img)\n",
    "                test_label.append(dir1+'0' if eye == 'L' else dir1+'1')\n",
    "                \n",
    "    return np.array(train_data), np.array(train_label), np.array(val_data), np.array(val_label), np.array(test_data), np.array(test_label)"
   ]
  },
  {
   "cell_type": "code",
   "execution_count": 3,
   "metadata": {},
   "outputs": [
    {
     "data": {
      "application/vnd.jupyter.widget-view+json": {
       "model_id": "68b1277711f24c328c309f0f454d275b",
       "version_major": 2,
       "version_minor": 0
      },
      "text/plain": [
       "  0%|          | 0/1000 [00:00<?, ?it/s]"
      ]
     },
     "metadata": {},
     "output_type": "display_data"
    }
   ],
   "source": [
    "X_train, y_train, X_val, y_val, X_test, y_test = create_dataset('CASIA-Iris-Thousand')"
   ]
  },
  {
   "cell_type": "code",
   "execution_count": 4,
   "metadata": {},
   "outputs": [
    {
     "data": {
      "text/plain": [
       "<matplotlib.image.AxesImage at 0x27576767c48>"
      ]
     },
     "execution_count": 4,
     "metadata": {},
     "output_type": "execute_result"
    },
    {
     "data": {
      "image/png": "[encoded data removed]",
      "text/plain": [
       "<Figure size 432x288 with 1 Axes>"
      ]
     },
     "metadata": {
      "needs_background": "light"
     },
     "output_type": "display_data"
    }
   ],
   "source": [
    "plt.imshow((X_train[0]*255).astype(np.uint8))"
   ]
  },
  {
   "cell_type": "code",
   "execution_count": 5,
   "metadata": {},
   "outputs": [],
   "source": [
    "# X_train, X_test, y_train, y_test = train_test_split(np.concatenate((X_train, X_val, X_test), axis=0), np.concatenate((y_train, y_val, y_test), axis=0), test_size=0.2, random_state=1)\n",
    "\n",
    "# X_train, X_val, y_train, y_val = train_test_split(X_train, y_train, test_size=0.25, random_state=1) # 0.25 x 0.8 = 0.2"
   ]
  },
  {
   "cell_type": "code",
   "execution_count": 6,
   "metadata": {},
   "outputs": [],
   "source": [
    "np.save('temp_data/X_train.npy', X_train)\n",
    "np.save('temp_data/X_val.npy', X_val)\n",
    "np.save('temp_data/X_test.npy', X_test)\n",
    "\n",
    "np.save('temp_data/y_train.npy', y_train)\n",
    "np.save('temp_data/y_val.npy', y_val)\n",
    "np.save('temp_data/y_test.npy', y_test)"
   ]
  },
  {
   "cell_type": "code",
   "execution_count": 57,
   "metadata": {},
   "outputs": [],
   "source": [
    "X_train = np.load('temp_data/X_train.npy')\n",
    "X_val = np.load('temp_data/X_val.npy')\n",
    "X_test = np.load('temp_data/X_test.npy')\n",
    "\n",
    "y_train = np.load('temp_data/y_train.npy')\n",
    "y_val = np.load('temp_data/y_val.npy')\n",
    "y_test = np.load('temp_data/y_test.npy')"
   ]
  },
  {
   "cell_type": "code",
   "execution_count": 58,
   "metadata": {},
   "outputs": [],
   "source": [
    "# X_train = resnet_preprocess_input(X_train)\n",
    "# X_val = resnet_preprocess_input(X_val)\n",
    "# X_test = resnet_preprocess_input(X_test)\n",
    "\n",
    "X_train = vgg16_preprocess_input(X_train)\n",
    "X_val = vgg16_preprocess_input(X_val)\n",
    "X_test = vgg16_preprocess_input(X_test)"
   ]
  },
  {
   "cell_type": "code",
   "execution_count": 59,
   "metadata": {},
   "outputs": [],
   "source": [
    "le = LabelEncoder()\n",
    "\n",
    "y_train = to_categorical(le.fit_transform(y_train), num_classes=2000)\n",
    "y_val = to_categorical(le.fit_transform(y_val), num_classes=2000)\n",
    "y_test = to_categorical(le.fit_transform(y_test), num_classes=2000)"
   ]
  },
  {
   "cell_type": "code",
   "execution_count": 60,
   "metadata": {},
   "outputs": [
    {
     "data": {
      "text/plain": [
       "[PhysicalDevice(name='/physical_device:GPU:0', device_type='GPU')]"
      ]
     },
     "execution_count": 60,
     "metadata": {},
     "output_type": "execute_result"
    }
   ],
   "source": [
    "# Check if GPU is available\n",
    "tf.config.list_physical_devices('GPU')"
   ]
  },
  {
   "cell_type": "code",
   "execution_count": 61,
   "metadata": {},
   "outputs": [
    {
     "name": "stdout",
     "output_type": "stream",
     "text": [
      "Epoch 1/40\n",
      "750/750 [==============================] - 14s 17ms/step - loss: 6.6494 - accuracy: 0.0414 - val_loss: 4.6660 - val_accuracy: 0.1827\n",
      "Epoch 2/40\n",
      "750/750 [==============================] - 12s 16ms/step - loss: 3.8147 - accuracy: 0.2680 - val_loss: 2.9851 - val_accuracy: 0.3918\n",
      "Epoch 3/40\n",
      "750/750 [==============================] - 12s 16ms/step - loss: 2.2329 - accuracy: 0.5097 - val_loss: 2.2699 - val_accuracy: 0.5212\n",
      "Epoch 4/40\n",
      "750/750 [==============================] - 12s 16ms/step - loss: 1.4591 - accuracy: 0.6488 - val_loss: 2.0348 - val_accuracy: 0.5673\n",
      "Epoch 5/40\n",
      "750/750 [==============================] - 12s 16ms/step - loss: 1.0685 - accuracy: 0.7286 - val_loss: 1.8616 - val_accuracy: 0.6117\n",
      "Epoch 6/40\n",
      "750/750 [==============================] - 12s 16ms/step - loss: 0.8262 - accuracy: 0.7822 - val_loss: 1.7676 - val_accuracy: 0.6340\n",
      "Epoch 7/40\n",
      "750/750 [==============================] - 12s 16ms/step - loss: 0.7042 - accuracy: 0.8099 - val_loss: 1.7871 - val_accuracy: 0.6492\n",
      "Epoch 8/40\n",
      "750/750 [==============================] - 12s 16ms/step - loss: 0.6371 - accuracy: 0.8207 - val_loss: 1.7940 - val_accuracy: 0.6497\n",
      "Epoch 9/40\n",
      "750/750 [==============================] - 12s 16ms/step - loss: 0.5761 - accuracy: 0.8391 - val_loss: 1.7548 - val_accuracy: 0.6670\n",
      "Epoch 10/40\n",
      "750/750 [==============================] - 12s 16ms/step - loss: 0.4727 - accuracy: 0.8648 - val_loss: 1.8076 - val_accuracy: 0.6713\n",
      "Epoch 11/40\n",
      "750/750 [==============================] - 12s 16ms/step - loss: 0.4424 - accuracy: 0.8751 - val_loss: 1.7669 - val_accuracy: 0.6787\n",
      "Epoch 12/40\n",
      "750/750 [==============================] - 12s 16ms/step - loss: 0.4201 - accuracy: 0.8767 - val_loss: 1.8211 - val_accuracy: 0.6843\n",
      "Epoch 13/40\n",
      "750/750 [==============================] - 12s 16ms/step - loss: 0.4106 - accuracy: 0.8778 - val_loss: 1.8572 - val_accuracy: 0.6798\n",
      "Epoch 14/40\n",
      "750/750 [==============================] - 12s 16ms/step - loss: 0.3739 - accuracy: 0.8904 - val_loss: 1.7969 - val_accuracy: 0.6973\n",
      "Epoch 15/40\n",
      "750/750 [==============================] - 12s 16ms/step - loss: 0.3510 - accuracy: 0.8942 - val_loss: 1.8584 - val_accuracy: 0.6922\n",
      "Epoch 16/40\n",
      "750/750 [==============================] - 12s 16ms/step - loss: 0.3598 - accuracy: 0.8940 - val_loss: 1.8748 - val_accuracy: 0.6952\n",
      "Epoch 17/40\n",
      "750/750 [==============================] - 12s 16ms/step - loss: 0.3501 - accuracy: 0.8944 - val_loss: 1.8858 - val_accuracy: 0.6965\n",
      "Epoch 18/40\n",
      "750/750 [==============================] - 12s 16ms/step - loss: 0.3128 - accuracy: 0.9063 - val_loss: 1.9153 - val_accuracy: 0.6957\n",
      "Epoch 19/40\n",
      "750/750 [==============================] - 12s 16ms/step - loss: 0.3308 - accuracy: 0.9067 - val_loss: 1.8736 - val_accuracy: 0.7075\n",
      "Epoch 20/40\n",
      "750/750 [==============================] - 12s 16ms/step - loss: 0.3075 - accuracy: 0.9073 - val_loss: 1.8705 - val_accuracy: 0.7110\n",
      "Epoch 21/40\n",
      "750/750 [==============================] - 12s 16ms/step - loss: 0.2763 - accuracy: 0.9171 - val_loss: 1.8802 - val_accuracy: 0.7040\n",
      "Epoch 22/40\n",
      "750/750 [==============================] - 12s 16ms/step - loss: 0.2632 - accuracy: 0.9207 - val_loss: 1.9320 - val_accuracy: 0.7052\n",
      "Epoch 23/40\n",
      "750/750 [==============================] - 12s 16ms/step - loss: 0.2883 - accuracy: 0.9147 - val_loss: 1.9200 - val_accuracy: 0.7138\n",
      "Epoch 24/40\n",
      "750/750 [==============================] - 12s 16ms/step - loss: 0.2457 - accuracy: 0.9271 - val_loss: 1.8888 - val_accuracy: 0.7175\n",
      "Epoch 25/40\n",
      "750/750 [==============================] - 12s 16ms/step - loss: 0.2515 - accuracy: 0.9239 - val_loss: 1.8774 - val_accuracy: 0.7218\n",
      "Epoch 26/40\n",
      "750/750 [==============================] - 12s 16ms/step - loss: 0.2605 - accuracy: 0.9233 - val_loss: 1.9580 - val_accuracy: 0.7145\n",
      "Epoch 27/40\n",
      "750/750 [==============================] - 12s 16ms/step - loss: 0.2381 - accuracy: 0.9297 - val_loss: 1.9234 - val_accuracy: 0.7220\n",
      "Epoch 28/40\n",
      "750/750 [==============================] - 12s 16ms/step - loss: 0.2292 - accuracy: 0.9307 - val_loss: 1.9372 - val_accuracy: 0.7212\n",
      "Epoch 29/40\n",
      "750/750 [==============================] - 12s 16ms/step - loss: 0.2296 - accuracy: 0.9313 - val_loss: 1.9287 - val_accuracy: 0.7257\n",
      "Epoch 30/40\n",
      "750/750 [==============================] - 12s 16ms/step - loss: 0.2195 - accuracy: 0.9333 - val_loss: 1.9914 - val_accuracy: 0.7170\n",
      "Epoch 31/40\n",
      "750/750 [==============================] - 12s 16ms/step - loss: 0.2034 - accuracy: 0.9395 - val_loss: 1.9531 - val_accuracy: 0.7247\n",
      "Epoch 32/40\n",
      "750/750 [==============================] - 12s 16ms/step - loss: 0.2240 - accuracy: 0.9327 - val_loss: 2.0083 - val_accuracy: 0.7220\n",
      "Epoch 33/40\n",
      "750/750 [==============================] - 12s 16ms/step - loss: 0.1941 - accuracy: 0.9426 - val_loss: 2.0690 - val_accuracy: 0.7178\n",
      "Epoch 34/40\n",
      "750/750 [==============================] - 12s 16ms/step - loss: 0.2078 - accuracy: 0.9396 - val_loss: 2.0514 - val_accuracy: 0.7213\n",
      "Epoch 35/40\n",
      "750/750 [==============================] - 12s 16ms/step - loss: 0.2105 - accuracy: 0.9370 - val_loss: 1.9515 - val_accuracy: 0.7275\n",
      "Epoch 36/40\n",
      "750/750 [==============================] - 12s 16ms/step - loss: 0.1970 - accuracy: 0.9422 - val_loss: 1.9510 - val_accuracy: 0.7293\n",
      "Epoch 37/40\n",
      "750/750 [==============================] - 12s 16ms/step - loss: 0.1874 - accuracy: 0.9459 - val_loss: 1.9786 - val_accuracy: 0.7295\n",
      "Epoch 38/40\n",
      "750/750 [==============================] - 12s 16ms/step - loss: 0.1929 - accuracy: 0.9433 - val_loss: 1.9932 - val_accuracy: 0.7307\n",
      "Epoch 39/40\n",
      "750/750 [==============================] - 12s 16ms/step - loss: 0.1672 - accuracy: 0.9497 - val_loss: 1.9499 - val_accuracy: 0.7338\n",
      "Epoch 40/40\n",
      "750/750 [==============================] - 12s 16ms/step - loss: 0.1825 - accuracy: 0.9469 - val_loss: 1.9944 - val_accuracy: 0.7312\n"
     ]
    }
   ],
   "source": [
    "with tf.device('GPU:0'):\n",
    "    # Load the ResNet101 model with pre-trained weights on ImageNet dataset\n",
    "    model = VGG16(weights='imagenet', include_top=False, input_shape=(64,64,3))\n",
    "\n",
    "    # Freeze the layers of the ResNet101 model\n",
    "    for layer in model.layers:\n",
    "        layer.trainable = False\n",
    "\n",
    "    # Add custom layers on top of the ResNet101 model\n",
    "    x = model.output\n",
    "    x = keras.layers.GlobalAveragePooling2D()(x)\n",
    "    x = keras.layers.Dense(1024, activation='relu')(x)\n",
    "    x = keras.layers.BatchNormalization()(x)\n",
    "    x = keras.layers.Dropout(0.3)(x)\n",
    "    x = keras.layers.Dense(512, activation='sigmoid')(x)\n",
    "    x = keras.layers.BatchNormalization()(x)\n",
    "    x = keras.layers.Dropout(0.2)(x)\n",
    "    predictions = keras.layers.Dense(2000, activation='softmax')(x)\n",
    "\n",
    "    # Combine the ResNet101 model with the custom layers\n",
    "    model = keras.models.Model(inputs=model.input, outputs=predictions)\n",
    "\n",
    "    # Compile the model\n",
    "    model.compile(optimizer='adam', loss='categorical_crossentropy', metrics=['accuracy'])\n",
    "\n",
    "    # Train the model\n",
    "    history = model.fit(X_train, y_train, batch_size=16, epochs=40, validation_data=(X_val, y_val), verbose=1)"
   ]
  },
  {
   "cell_type": "code",
   "execution_count": 62,
   "metadata": {},
   "outputs": [
    {
     "data": {
      "image/png": "[encoded data removed]",
      "text/plain": [
       "<Figure size 432x288 with 1 Axes>"
      ]
     },
     "metadata": {
      "needs_background": "light"
     },
     "output_type": "display_data"
    },
    {
     "data": {
      "image/png": "[encoded data removed]",
      "text/plain": [
       "<Figure size 432x288 with 1 Axes>"
      ]
     },
     "metadata": {
      "needs_background": "light"
     },
     "output_type": "display_data"
    }
   ],
   "source": [
    "# Plot the training accuracy\n",
    "plt.plot(history.history['accuracy'])\n",
    "plt.plot(history.history['val_accuracy'])\n",
    "plt.title('Model accuracy')\n",
    "plt.ylabel('Accuracy')\n",
    "plt.xlabel('Epoch')\n",
    "plt.legend(['Train', 'Validation'], loc='upper left')\n",
    "plt.show()\n",
    "\n",
    "# Plot the training loss\n",
    "plt.plot(history.history['loss'])\n",
    "plt.plot(history.history['val_loss'])\n",
    "plt.title('Model loss')\n",
    "plt.ylabel('Loss')\n",
    "plt.xlabel('Epoch')\n",
    "plt.legend(['Train', 'Validation'], loc='upper left')\n",
    "plt.show()"
   ]
  },
  {
   "cell_type": "code",
   "execution_count": 63,
   "metadata": {},
   "outputs": [],
   "source": [
    "model.save('Model/VGG16_40.h5')"
   ]
  },
  {
   "cell_type": "code",
   "execution_count": 66,
   "metadata": {},
   "outputs": [],
   "source": [
    "model = keras.models.load_model('Model/VGG16_40.h5')"
   ]
  },
  {
   "cell_type": "code",
   "execution_count": 67,
   "metadata": {},
   "outputs": [
    {
     "name": "stdout",
     "output_type": "stream",
     "text": [
      "125/125 [==============================] - 2s 15ms/step\n"
     ]
    },
    {
     "data": {
      "image/png": "[encoded data removed]",
      "text/plain": [
       "<Figure size 432x288 with 2 Axes>"
      ]
     },
     "metadata": {
      "needs_background": "light"
     },
     "output_type": "display_data"
    },
    {
     "name": "stdout",
     "output_type": "stream",
     "text": [
      "Accuracy: 75.92%\n"
     ]
    }
   ],
   "source": [
    "# Predict on the test data\n",
    "y_pred = model.predict(X_test)\n",
    "\n",
    "# Convert the predicted probabilities to class labels\n",
    "y_pred_classes = np.argmax(y_pred, axis=1)\n",
    "\n",
    "# Convert the true labels to class labels\n",
    "y_test_classes = np.argmax(y_test, axis=1)\n",
    "\n",
    "# Plot the confusion matrix\n",
    "from sklearn.metrics import confusion_matrix\n",
    "\n",
    "confusion_matrix = confusion_matrix(y_test_classes, y_pred_classes)\n",
    "plt.imshow(confusion_matrix, cmap=plt.cm.Blues)\n",
    "plt.title(\"Confusion Matrix\")\n",
    "plt.ylabel('True label')\n",
    "plt.xlabel('Predicted label')\n",
    "plt.colorbar()\n",
    "plt.show()\n",
    "\n",
    "# Plot the accuracy\n",
    "from sklearn.metrics import accuracy_score\n",
    "\n",
    "accuracy = accuracy_score(y_test_classes, y_pred_classes)\n",
    "print(\"Accuracy: {:.2f}%\".format(accuracy * 100))\n"
   ]
  },
  {
   "cell_type": "code",
   "execution_count": 25,
   "metadata": {},
   "outputs": [],
   "source": [
    "import sklearn.svm as svm\n",
    "import sklearn.model_selection as model_selection"
   ]
  },
  {
   "cell_type": "code",
   "execution_count": 22,
   "metadata": {},
   "outputs": [],
   "source": [
    "model = VGG16(weights='imagenet', include_top=False, input_shape=(64,64,3))"
   ]
  },
  {
   "cell_type": "code",
   "execution_count": 23,
   "metadata": {},
   "outputs": [
    {
     "name": "stdout",
     "output_type": "stream",
     "text": [
      "375/375 [==============================] - 5s 12ms/step\n",
      "188/188 [==============================] - 2s 12ms/step\n",
      "125/125 [==============================] - 2s 12ms/step\n"
     ]
    }
   ],
   "source": [
    "with tf.device('GPU:0'):\n",
    "    features_train = model.predict(X_train)\n",
    "    features_val = model.predict(X_val)\n",
    "    features_test = model.predict(X_test)"
   ]
  },
  {
   "cell_type": "code",
   "execution_count": 32,
   "metadata": {},
   "outputs": [],
   "source": [
    "X_train = np.load('temp_data/X_train.npy')\n",
    "X_val = np.load('temp_data/X_val.npy')\n",
    "X_test = np.load('temp_data/X_test.npy')\n",
    "\n",
    "y_train = np.load('temp_data/y_train.npy')\n",
    "y_val = np.load('temp_data/y_val.npy')\n",
    "y_test = np.load('temp_data/y_test.npy')"
   ]
  },
  {
   "cell_type": "code",
   "execution_count": 33,
   "metadata": {},
   "outputs": [
    {
     "data": {
      "text/plain": [
       "SVC(kernel='linear', probability=True)"
      ]
     },
     "execution_count": 33,
     "metadata": {},
     "output_type": "execute_result"
    }
   ],
   "source": [
    "clf = svm.SVC(kernel='linear', C=1.0, probability=True)\n",
    "clf.fit(features_train.reshape(features_train.shape[0], -1), y_train)"
   ]
  },
  {
   "cell_type": "code",
   "execution_count": 37,
   "metadata": {},
   "outputs": [],
   "source": [
    "predict = clf.predict(features_val.reshape(features_val.shape[0], -1))"
   ]
  },
  {
   "cell_type": "code",
   "execution_count": 38,
   "metadata": {},
   "outputs": [
    {
     "name": "stdout",
     "output_type": "stream",
     "text": [
      "Accuracy: 77.55%\n"
     ]
    }
   ],
   "source": [
    "accuracy = accuracy_score(predict, y_val)\n",
    "print(\"Accuracy: {:.2f}%\".format(accuracy * 100))"
   ]
  },
  {
   "cell_type": "code",
   "execution_count": null,
   "metadata": {},
   "outputs": [],
   "source": []
  }
 ],
 "metadata": {
  "kernelspec": {
   "display_name": "Python 3",
   "language": "python",
   "name": "python3"
  },
  "language_info": {
   "codemirror_mode": {
    "name": "ipython",
    "version": 3
   },
   "file_extension": ".py",
   "mimetype": "text/x-python",
   "name": "python",
   "nbconvert_exporter": "python",
   "pygments_lexer": "ipython3",
   "version": "3.7.9"
  },
  "orig_nbformat": 4,
  "vscode": {
   "interpreter": {
    "hash": "c91c7ded5a8abaf9a68f624d28a8ea7841420a8c072289ca0a8b1208415b2bb5"
   }
  }
 },
 "nbformat": 4,
 "nbformat_minor": 2
}
